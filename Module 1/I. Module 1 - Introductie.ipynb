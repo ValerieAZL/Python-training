{
 "cells": [
  {
   "cell_type": "markdown",
   "metadata": {},
   "source": [
    "# Module 1 - Introductie"
   ]
  },
  {
   "cell_type": "markdown",
   "metadata": {},
   "source": [
    "Welkom bij module 1 van de Python training!\n",
    "\n",
    "Bij de opdrachten behandelen wij de volgende onderwerpen: \n",
    "\n",
    "  1. Documentatie zoeken\n",
    "\n",
    "  2. Python the basics\n",
    "\n",
    "  3. Data typen in Python\n",
    "\n",
    "De opdrachten voor documentatie (1) en Python the basics (2) staan in het slide deck. Je kunt deze opdrachten maken en vragen beantwoorden in een leeg Jupyter notebook script of onderaan dit script.\n",
    "\n",
    "Zorg ervoor dat je de set-up van VSCode hebt uitgevoerd zoals aangegeven tijdens de training. \n",
    "\n",
    "Hieronder volgen opdrachten over Data typen in Python (3) die je per cell kan uitvoeren en beantwoorden:"
   ]
  },
  {
   "cell_type": "markdown",
   "metadata": {},
   "source": [
    "## The basics: zelf programmeren"
   ]
  },
  {
   "cell_type": "markdown",
   "metadata": {},
   "source": [
    "### Opdracht 1: Bereken: (2∙ (3−1)^4)/√25"
   ]
  },
  {
   "cell_type": "code",
   "execution_count": 1,
   "metadata": {},
   "outputs": [
    {
     "data": {
      "text/plain": [
       "6.4"
      ]
     },
     "execution_count": 1,
     "metadata": {},
     "output_type": "execute_result"
    }
   ],
   "source": [
    "import math\n",
    "(2*(3-1)**4)/math.sqrt(25)"
   ]
  },
  {
   "cell_type": "markdown",
   "metadata": {},
   "source": [
    "### Opdracht 2: Wijs de waardes 4 en 3 toe aan de variabelen ‘a’ en ‘b’. Print de variabelen."
   ]
  },
  {
   "cell_type": "code",
   "execution_count": 2,
   "metadata": {},
   "outputs": [
    {
     "name": "stdout",
     "output_type": "stream",
     "text": [
      "4\n",
      "3\n"
     ]
    }
   ],
   "source": [
    "a=4\n",
    "b=3\n",
    "print (a)\n",
    "print (b)"
   ]
  },
  {
   "cell_type": "markdown",
   "metadata": {},
   "source": [
    "### Opdracht 3: Vermenigvuldig a en b met elkaar en print het resultaat."
   ]
  },
  {
   "cell_type": "code",
   "execution_count": 3,
   "metadata": {},
   "outputs": [
    {
     "data": {
      "text/plain": [
       "12"
      ]
     },
     "execution_count": 3,
     "metadata": {},
     "output_type": "execute_result"
    }
   ],
   "source": [
    "a*b"
   ]
  },
  {
   "cell_type": "markdown",
   "metadata": {},
   "source": [
    "### Opdracht 4: Wijs de waarde “2.0” toe aan variabele ‘c’."
   ]
  },
  {
   "cell_type": "code",
   "execution_count": 4,
   "metadata": {},
   "outputs": [],
   "source": [
    "c=2.0"
   ]
  },
  {
   "cell_type": "markdown",
   "metadata": {},
   "source": [
    "### Opdracht 5: Print het datatype van ‘a’, ‘b’ en ‘c’. "
   ]
  },
  {
   "cell_type": "code",
   "execution_count": 7,
   "metadata": {},
   "outputs": [
    {
     "name": "stdout",
     "output_type": "stream",
     "text": [
      "4 <class 'int'>\n",
      "3 <class 'int'>\n",
      "2.0 <class 'float'>\n"
     ]
    }
   ],
   "source": [
    "print(a, type(a))\n",
    "print(b, type(b))\n",
    "print(c, type(c))"
   ]
  },
  {
   "cell_type": "markdown",
   "metadata": {},
   "source": [
    "### Opdracht 6: Maak de opdracht uit opdracht 1 opnieuw, maar gebruik nu de variabelen ‘a’ en ‘b’."
   ]
  },
  {
   "cell_type": "code",
   "execution_count": 8,
   "metadata": {},
   "outputs": [
    {
     "data": {
      "text/plain": [
       "3.2"
      ]
     },
     "execution_count": 8,
     "metadata": {},
     "output_type": "execute_result"
    }
   ],
   "source": [
    "(2*(b-1)**3)/math.sqrt(25)"
   ]
  },
  {
   "cell_type": "markdown",
   "metadata": {},
   "source": [
    "### Opdracht 7: Wijs de waarde ‘[0,1,2]’ toe aan variabele ‘d’. Print het datatype. "
   ]
  },
  {
   "cell_type": "code",
   "execution_count": 10,
   "metadata": {},
   "outputs": [
    {
     "name": "stdout",
     "output_type": "stream",
     "text": [
      "<class 'list'>\n"
     ]
    }
   ],
   "source": [
    "d = [0,1,2]\n",
    "print(type(d))"
   ]
  },
  {
   "cell_type": "markdown",
   "metadata": {},
   "source": [
    "### Opdracht 8: Zoek in documentatie hoe je het tweede element uit de lijst haalt en pas dit toe. Wat valt je op?"
   ]
  },
  {
   "cell_type": "code",
   "execution_count": 12,
   "metadata": {},
   "outputs": [
    {
     "name": "stdout",
     "output_type": "stream",
     "text": [
      "2\n"
     ]
    }
   ],
   "source": [
    "print (d[2])"
   ]
  },
  {
   "cell_type": "markdown",
   "metadata": {},
   "source": [
    "## Datatypen"
   ]
  },
  {
   "cell_type": "markdown",
   "metadata": {},
   "source": [
    "### Opdracht 1: Maak een lijst met daarin de volgende salarissen van een persoon voor de jaren 2015 t/m 2024.\n",
    "1. Maak een lijst met salarissen van een persoon voor de jaren 2015 t/m 2024. Maximale pensioengevende salarissen voor de jaren 2015 t/m 2021 zijn: 100000, 101519, 103317, 105075, 107593, 110111, 112189, 114866, 128810, 137800\n",
    "2. Print het maximum salaris van 2017"
   ]
  },
  {
   "cell_type": "code",
   "execution_count": 14,
   "metadata": {},
   "outputs": [
    {
     "name": "stdout",
     "output_type": "stream",
     "text": [
      "103317\n"
     ]
    }
   ],
   "source": [
    "salaris_deelnemer = [120000,121000,122000,123000,124000,125000,126000,127000,128000,129000]\n",
    "maximum_salaris = [100000,101519, 103317, 105075, 107593, 110111, 112189, 114866, 128810, 137800]\n",
    "print(maximum_salaris[2])"
   ]
  },
  {
   "cell_type": "markdown",
   "metadata": {},
   "source": [
    "### Opdracht 2: Maak een lijst met daarin de jaren 2015 t/m 2024"
   ]
  },
  {
   "cell_type": "code",
   "execution_count": 15,
   "metadata": {},
   "outputs": [],
   "source": [
    "jaren = [2015,2016,2017,2018,2019,2020,2021,2022,2023,2024]"
   ]
  },
  {
   "cell_type": "markdown",
   "metadata": {},
   "source": [
    "### Opdracht 3: Maak een dictionary van de maximale salarissen. \n",
    "1. Maak een dictionary met Key = jaartal en Value = maximum salaris. Gebruik de lijsten uit opdrachten 1 en 2. \n",
    "Tip: gebruik de zip() functie.\n",
    "2. Print het maximum salaris van 2015"
   ]
  },
  {
   "cell_type": "code",
   "execution_count": 28,
   "metadata": {},
   "outputs": [
    {
     "data": {
      "text/plain": [
       "100000"
      ]
     },
     "execution_count": 28,
     "metadata": {},
     "output_type": "execute_result"
    }
   ],
   "source": [
    "max_sal_perjaar = dict(zip(jaren, maximum_salaris))\n",
    "max_sal_perjaar[2015]"
   ]
  },
  {
   "cell_type": "markdown",
   "metadata": {},
   "source": [
    "### Opdracht 4: Berekening opbouw\n",
    "Bereken de jaaropbouw voor pensioenen voor 2024 met opbouwpercentage 1.875% en franchise = 17545. \n",
    "1. Wijs de waarden toe aan variabelen.\n",
    "2. Bereken de jaaropbouw voor pensioenen voor 2024. Gebruik de dictionary uit opdracht 3 voor het ophalen van de juiste waarden voor het maximum salaris in 2024. Wijs de uitkomst toe aan een variabele."
   ]
  },
  {
   "cell_type": "code",
   "execution_count": null,
   "metadata": {},
   "outputs": [],
   "source": []
  },
  {
   "cell_type": "markdown",
   "metadata": {},
   "source": [
    "### Extra vraag: waarom is het gebruik van een dictionary bij opdracht 4 handiger dan een lijst of andere structuur?"
   ]
  },
  {
   "cell_type": "markdown",
   "metadata": {},
   "source": [
    "1. Toegankelijkheid via 'Keys': Een dictionary maakt het mogelijk om gegevens direct op te vragen via een duidelijke en betekenisvolle key, in dit geval het jaartal (bijvoorbeeld 2024). Dit maakt het intuïtief en makkelijk om de juiste waarde te vinden op basis van het jaartal. In tegenstelling tot een lijst, waarbij je door de index moet navigeren (bijvoorbeeld de 0e, 1e of 2e positie), kun je met een dictionary direct naar de gewenste waarde refereren met een sleutel die relevant is voor het probleem.\n",
    "\n",
    "2. Flexibiliteit en uitbreidbaarheid: Met een dictionary kun je gemakkelijk andere jaren toevoegen, bijvoorbeeld dic[2025], dic[2026], enz., zonder dat je de structuur hoeft aan te passen. Bij een lijst zou je een vaste volgorde moeten handhaven of handmatig de juiste index moeten onthouden om toegang te krijgen tot de waarden, wat minder overzichtelijk en foutgevoeliger is.\n",
    "\n",
    "3. Leesbaarheid van de code: Door gebruik te maken van een dictionary, is de code leesbaarder en begrijpelijker voor anderen. Je ziet meteen dat de waarde gekoppeld is aan een specifiek jaar, wat niet minder duidelijk zou zijn als je een lijst of een andere structuur zou gebruiken.\n",
    "\n",
    "\n",
    "Kortom, een dictionary biedt meer duidelijkheid, maakt de code makkelijker uitbreidbaar, en vereenvoudigt het ophalen van gegevens, vooral als het gaat om het werken met data die logisch is gestructureerd als 'key-value'-paren, zoals jaartallen en bijbehorende pensioengegevens."
   ]
  },
  {
   "cell_type": "markdown",
   "metadata": {},
   "source": [
    "### Opdracht 5: Welke datatypes heb ik?\n",
    "1. Print de datatypes van de variabelen jaren en max_sal uit Opdracht 1 en Opdracht 2.\n",
    "2. Print het datatype van een individueel element uit de jaren lijst.\n",
    "3. Print het datatype van het berekende pensioen uit 2024 bij opdracht 4."
   ]
  },
  {
   "cell_type": "code",
   "execution_count": null,
   "metadata": {},
   "outputs": [],
   "source": []
  },
  {
   "cell_type": "markdown",
   "metadata": {},
   "source": [
    "### Opdracht 6: Maak een tuple met waarden 6 t/m 10.\n",
    "1. Maak een tuple met waarden 6 t/m 10 en print het 3e element. \n",
    "2. Wijzig daarna het 4e element naar de waarde 20.\n"
   ]
  },
  {
   "cell_type": "code",
   "execution_count": null,
   "metadata": {},
   "outputs": [],
   "source": []
  },
  {
   "cell_type": "markdown",
   "metadata": {},
   "source": [
    "3. Wat valt je op?"
   ]
  },
  {
   "cell_type": "markdown",
   "metadata": {},
   "source": [
    "### Opdracht 7: Oefenen met sets\n",
    "Run de volgende voorgeprogrammeerde code"
   ]
  },
  {
   "cell_type": "code",
   "execution_count": 18,
   "metadata": {},
   "outputs": [],
   "source": [
    "set1 = set([i for i in range(1973, 6571)])\n",
    "set2 = set([i for i in range(1345, 5728)])"
   ]
  },
  {
   "cell_type": "markdown",
   "metadata": {},
   "source": [
    "Laat zien wat er in set1 staat"
   ]
  },
  {
   "cell_type": "code",
   "execution_count": null,
   "metadata": {},
   "outputs": [],
   "source": []
  },
  {
   "cell_type": "markdown",
   "metadata": {},
   "source": [
    "Voeg het getal 1972 toe aan set1"
   ]
  },
  {
   "cell_type": "code",
   "execution_count": 20,
   "metadata": {},
   "outputs": [],
   "source": []
  },
  {
   "cell_type": "markdown",
   "metadata": {},
   "source": [
    "Verwijder het laagste element uit set2."
   ]
  },
  {
   "cell_type": "code",
   "execution_count": 21,
   "metadata": {},
   "outputs": [],
   "source": []
  },
  {
   "cell_type": "markdown",
   "metadata": {},
   "source": [
    "Hoe groot is de intersectie van de twee set?"
   ]
  },
  {
   "cell_type": "code",
   "execution_count": null,
   "metadata": {},
   "outputs": [],
   "source": []
  },
  {
   "cell_type": "markdown",
   "metadata": {},
   "source": [
    "Hoe groot is de union van de twee sets?"
   ]
  },
  {
   "cell_type": "code",
   "execution_count": null,
   "metadata": {},
   "outputs": [],
   "source": []
  },
  {
   "cell_type": "markdown",
   "metadata": {},
   "source": [
    "Vind de set van waarde uit set1 die niet in set2 zitten en print de omvang van deze set"
   ]
  },
  {
   "cell_type": "code",
   "execution_count": null,
   "metadata": {},
   "outputs": [],
   "source": []
  },
  {
   "cell_type": "markdown",
   "metadata": {},
   "source": [
    "### Extra opdrachten"
   ]
  },
  {
   "cell_type": "markdown",
   "metadata": {},
   "source": [
    "#### Opdracht 8: Extra oefeningen met lists\n",
    "Werken met lijst slicing: Gebruik de lijst van jaren uit Opdracht 2. Selecteer de eerste 3 jaren (2015, 2016 en 2017)."
   ]
  },
  {
   "cell_type": "code",
   "execution_count": null,
   "metadata": {},
   "outputs": [],
   "source": []
  },
  {
   "cell_type": "markdown",
   "metadata": {},
   "source": [
    "Gebruik de lijst van salarissen (max_sal) uit Opdracht 1.  Bereken het gemiddelde max salaris \n",
    "\n",
    "Tip: gebruik sum() en len()"
   ]
  },
  {
   "cell_type": "code",
   "execution_count": null,
   "metadata": {},
   "outputs": [],
   "source": []
  },
  {
   "cell_type": "markdown",
   "metadata": {},
   "source": [
    "#### Opdracht 9:  Werken met booleans\n",
    "Controleer of een bepaald salaris hoger is dan €110.000\n",
    "1. Maak een variabele aan met een zelfgekozen salaris\n",
    "2. Controleer of het salaris hoger is dan €110.000"
   ]
  },
  {
   "cell_type": "code",
   "execution_count": null,
   "metadata": {},
   "outputs": [],
   "source": []
  },
  {
   "cell_type": "markdown",
   "metadata": {},
   "source": [
    "#### Opdracht 10: Werken met nested dictionaries\n",
    "Maak een dictionary die per jaar de pensioengevende gegevens bevat in een nested dictionary-formaat. Gebruik de volgende gegevens:\n",
    "\n",
    "- franchise: de franchise voor het betreffende jaar (bijvoorbeeld franchise = 17545 voor 2024)\n",
    "- opbouw: het opbouwpercentage voor dat jaar (bijvoorbeeld opbouw = 0.01875 voor 2024)"
   ]
  },
  {
   "cell_type": "code",
   "execution_count": 25,
   "metadata": {},
   "outputs": [],
   "source": []
  },
  {
   "cell_type": "code",
   "execution_count": null,
   "metadata": {},
   "outputs": [],
   "source": []
  }
 ],
 "metadata": {
  "kernelspec": {
   "display_name": "Python 3",
   "language": "python",
   "name": "python3"
  },
  "language_info": {
   "codemirror_mode": {
    "name": "ipython",
    "version": 3
   },
   "file_extension": ".py",
   "mimetype": "text/x-python",
   "name": "python",
   "nbconvert_exporter": "python",
   "pygments_lexer": "ipython3",
   "version": "3.13.3"
  }
 },
 "nbformat": 4,
 "nbformat_minor": 4
}
