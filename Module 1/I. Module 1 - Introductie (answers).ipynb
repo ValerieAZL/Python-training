{
 "cells": [
  {
   "cell_type": "markdown",
   "metadata": {},
   "source": [
    "# Module 1 - Introductie"
   ]
  },
  {
   "cell_type": "markdown",
   "metadata": {},
   "source": [
    "Welkom bij module 1 van de Python training!\n",
    "\n",
    "Bij de opdrachten behandelen wij de volgende onderwerpen: \n",
    "\n",
    "  1. Documentatie zoeken\n",
    "\n",
    "  2. Python the basics\n",
    "\n",
    "  3. Data typen in Python\n",
    "\n",
    "De opdrachten voor documentatie (1) en Python the basics (2) staan in het slide deck. Je kunt deze opdrachten maken en vragen beantwoorden in een leeg Jupyter notebook script of onderaan dit script.\n",
    "\n",
    "Zorg ervoor dat je de set-up van VSCode hebt uitgevoerd zoals aangegeven tijdens de training. \n",
    "\n",
    "Hieronder volgen opdrachten over Data typen in Python (3) die je per cell kan uitvoeren en beantwoorden:"
   ]
  },
  {
   "cell_type": "markdown",
   "metadata": {},
   "source": [
    "## The basics: zelf programmeren"
   ]
  },
  {
   "cell_type": "markdown",
   "metadata": {},
   "source": [
    "### Opdracht 1: Bereken: (2∙ (3−1)^4)/√25"
   ]
  },
  {
   "cell_type": "code",
   "execution_count": null,
   "metadata": {},
   "outputs": [],
   "source": [
    "import math\n",
    "\n",
    "answer = 2*(3-1)**(4)/math.sqrt(25)\n",
    "\n",
    "print(answer)"
   ]
  },
  {
   "cell_type": "markdown",
   "metadata": {},
   "source": [
    "### Opdracht 2: Wijs de waardes 4 en 3 toe aan de variabelen ‘a’ en ‘b’. Print de variabelen."
   ]
  },
  {
   "cell_type": "code",
   "execution_count": null,
   "metadata": {},
   "outputs": [],
   "source": [
    "a = 4\n",
    "b = 3\n",
    "\n",
    "print(a, b)"
   ]
  },
  {
   "cell_type": "markdown",
   "metadata": {},
   "source": [
    "### Opdracht 3: Vermenigvuldig a en b met elkaar en print het resultaat."
   ]
  },
  {
   "cell_type": "code",
   "execution_count": null,
   "metadata": {},
   "outputs": [],
   "source": [
    "print(a*b)"
   ]
  },
  {
   "cell_type": "markdown",
   "metadata": {},
   "source": [
    "### Opdracht 4: Wijs de waarde “2.0” toe aan variabele ‘c’."
   ]
  },
  {
   "cell_type": "code",
   "execution_count": null,
   "metadata": {},
   "outputs": [],
   "source": [
    "c = 2.0"
   ]
  },
  {
   "cell_type": "markdown",
   "metadata": {},
   "source": [
    "### Opdracht 5: Print het datatype van ‘a’, ‘b’ en ‘c’. "
   ]
  },
  {
   "cell_type": "code",
   "execution_count": null,
   "metadata": {},
   "outputs": [],
   "source": [
    "print(type(a))\n",
    "print(type(b))\n",
    "print(type(c))"
   ]
  },
  {
   "cell_type": "markdown",
   "metadata": {},
   "source": [
    "### Opdracht 6: Maak de opdracht uit opdracht 1 opnieuw, maar gebruik nu de variabelen ‘a’ en ‘b’."
   ]
  },
  {
   "cell_type": "code",
   "execution_count": null,
   "metadata": {},
   "outputs": [],
   "source": [
    "answer = 2*(b-1)**(a)/math.sqrt(25)\n",
    "\n",
    "print(answer)"
   ]
  },
  {
   "cell_type": "markdown",
   "metadata": {},
   "source": [
    "### Opdracht 7: Wijs de waarde ‘[0,1,2]’ toe aan variabele ‘d’. Print het datatype. "
   ]
  },
  {
   "cell_type": "code",
   "execution_count": null,
   "metadata": {},
   "outputs": [],
   "source": [
    "d = [0, 1, 2]\n",
    "\n",
    "print(type(d))"
   ]
  },
  {
   "cell_type": "markdown",
   "metadata": {},
   "source": [
    "### Opdracht 8: Zoek in documentatie hoe je het tweede element uit de lijst haalt en pas dit toe. Wat valt je op?"
   ]
  },
  {
   "cell_type": "code",
   "execution_count": null,
   "metadata": {},
   "outputs": [],
   "source": [
    "print(d[1])"
   ]
  },
  {
   "cell_type": "markdown",
   "metadata": {},
   "source": [
    "## Datatypen"
   ]
  },
  {
   "cell_type": "markdown",
   "metadata": {},
   "source": [
    "### Opdracht 1: Maak een lijst met daarin de volgende salarissen van een persoon voor de jaren 2015 t/m 2024.\n",
    "1. Maak een lijst met salarissen van een persoon voor de jaren 2015 t/m 2024. Maximale pensioengevende salarissen voor de jaren 2015 t/m 2021 zijn: 100000, 101519, 103317, 105075, 107593, 110111, 112189, 114866, 128810, 137800\n",
    "2. Print het maximum salaris van 2017"
   ]
  },
  {
   "cell_type": "code",
   "execution_count": null,
   "metadata": {},
   "outputs": [],
   "source": [
    "# 1\n",
    "max_sal = [100000, 101519, 103317, 105075, 107593, 110111, 112189, 112189, 114866, 128810, 137800]\n",
    "\n",
    "# 2\n",
    "print(max_sal[2])"
   ]
  },
  {
   "cell_type": "markdown",
   "metadata": {},
   "source": [
    "### Opdracht 2: Maak een lijst met daarin de jaren 2015 t/m 2024"
   ]
  },
  {
   "cell_type": "code",
   "execution_count": null,
   "metadata": {},
   "outputs": [],
   "source": [
    "jaren = [2015, 2016, 2017, 2018, 2019, 2020, 2021, 2022, 2023, 2024]"
   ]
  },
  {
   "cell_type": "markdown",
   "metadata": {},
   "source": [
    "### Opdracht 3: Maak een dictionary van de maximale salarissen. \n",
    "1. Maak een dictionary met Key = jaartal en Value = maximum salaris. Gebruik de lijsten uit opdrachten 1 en 2. \n",
    "Tip: gebruik de zip() functie.\n",
    "2. Print het maximum salaris van 2015"
   ]
  },
  {
   "cell_type": "code",
   "execution_count": null,
   "metadata": {},
   "outputs": [],
   "source": [
    "# 1\n",
    "dic = dict(zip(jaren, max_sal))\n",
    "lis = list(zip(jaren, max_sal))\n",
    "print(dic)\n",
    "print(lis)\n",
    "\n",
    "# 2\n",
    "print(dic[2015])\n",
    "print(lis[0][1])"
   ]
  },
  {
   "cell_type": "markdown",
   "metadata": {},
   "source": [
    "### Opdracht 4: Berekening opbouw\n",
    "Bereken de jaaropbouw voor pensioenen voor 2024 met opbouwpercentage 1.875% en franchise = 17545. \n",
    "1. Wijs de waarden toe aan variabelen.\n",
    "2. Bereken de jaaropbouw voor pensioenen voor 2024. Gebruik de dictionary uit opdracht 3 voor het ophalen van de juiste waarden voor het maximum salaris in 2024. Wijs de uitkomst toe aan een variabele."
   ]
  },
  {
   "cell_type": "code",
   "execution_count": null,
   "metadata": {},
   "outputs": [],
   "source": [
    "# 1\n",
    "opbouw = 0.01875\n",
    "franchise = 17545\n",
    "# 2\n",
    "pensioen_2024 = opbouw*(dic[2024]-franchise)\n",
    "print(pensioen_2024)"
   ]
  },
  {
   "cell_type": "markdown",
   "metadata": {},
   "source": [
    "### Extra vraag: waarom is het gebruik van een dictionary bij opdracht 4 handiger dan een lijst of andere structuur?"
   ]
  },
  {
   "cell_type": "markdown",
   "metadata": {},
   "source": [
    "1. Toegankelijkheid via 'Keys': Een dictionary maakt het mogelijk om gegevens direct op te vragen via een duidelijke en betekenisvolle key, in dit geval het jaartal (bijvoorbeeld 2024). Dit maakt het intuïtief en makkelijk om de juiste waarde te vinden op basis van het jaartal. In tegenstelling tot een lijst, waarbij je door de index moet navigeren (bijvoorbeeld de 0e, 1e of 2e positie), kun je met een dictionary direct naar de gewenste waarde refereren met een sleutel die relevant is voor het probleem.\n",
    "\n",
    "2. Flexibiliteit en uitbreidbaarheid: Met een dictionary kun je gemakkelijk andere jaren toevoegen, bijvoorbeeld dic[2025], dic[2026], enz., zonder dat je de structuur hoeft aan te passen. Bij een lijst zou je een vaste volgorde moeten handhaven of handmatig de juiste index moeten onthouden om toegang te krijgen tot de waarden, wat minder overzichtelijk en foutgevoeliger is.\n",
    "\n",
    "3. Leesbaarheid van de code: Door gebruik te maken van een dictionary, is de code leesbaarder en begrijpelijker voor anderen. Je ziet meteen dat de waarde gekoppeld is aan een specifiek jaar, wat niet minder duidelijk zou zijn als je een lijst of een andere structuur zou gebruiken.\n",
    "\n",
    "\n",
    "Kortom, een dictionary biedt meer duidelijkheid, maakt de code makkelijker uitbreidbaar, en vereenvoudigt het ophalen van gegevens, vooral als het gaat om het werken met data die logisch is gestructureerd als 'key-value'-paren, zoals jaartallen en bijbehorende pensioengegevens."
   ]
  },
  {
   "cell_type": "markdown",
   "metadata": {},
   "source": [
    "### Opdracht 5: Welke datatypes heb ik?\n",
    "1. Print de datatypes van de variabelen jaren en max_sal uit Opdracht 1 en Opdracht 2.\n",
    "2. Print het datatype van een individueel element uit de jaren lijst.\n",
    "3. Print het datatype van het berekende pensioen uit 2024 bij opdracht 4."
   ]
  },
  {
   "cell_type": "code",
   "execution_count": null,
   "metadata": {},
   "outputs": [],
   "source": [
    "# 1\n",
    "print(\"Het datatype van 'jaren' is:\", type(jaren))\n",
    "print(\"Het datatype van 'salarissen' is:\", type(max_sal))\n",
    "\n",
    "# 2\n",
    "print(\"Het datatype van een element uit 'jaren' is:\", type(jaren[0]))\n",
    "\n",
    "# 3\n",
    "print(\"Het datatype van het pensioenbedrag is:\", type(pensioen_2024))"
   ]
  },
  {
   "cell_type": "markdown",
   "metadata": {},
   "source": [
    "### Opdracht 6: maak een tuple met waarden 6 t/m 10.\n",
    "1. Maak een tuple en print het 3e element. \n",
    "2. Wijzig daarna het 4e element naar de waarde 20."
   ]
  },
  {
   "cell_type": "code",
   "execution_count": null,
   "metadata": {},
   "outputs": [],
   "source": [
    "# 1\n",
    "tup = (6,7,8,9,10)\n",
    "print(\"Test:\", tup[2])\n",
    "\n",
    "# 2\n",
    "# tup[3] = 20"
   ]
  },
  {
   "cell_type": "markdown",
   "metadata": {},
   "source": [
    "3. Wat valt je op?\n",
    "\n",
    "Je kunt  het 4e element van een tuple niet wijzigen. Dit komt omdat tuples in Python immutable zijn, wat betekent dat hun elementen niet kunnen worden aangepast nadat ze zijn aangemaakt."
   ]
  },
  {
   "cell_type": "markdown",
   "metadata": {},
   "source": [
    "### Opdracht 7: Oefenen met sets\n",
    "Run de volgende voorgeprogrammeerde code"
   ]
  },
  {
   "cell_type": "code",
   "execution_count": null,
   "metadata": {},
   "outputs": [],
   "source": [
    "set1 = set([i for i in range(1973, 6571)])\n",
    "set2 = set([i for i in range(1345, 5728)])"
   ]
  },
  {
   "cell_type": "markdown",
   "metadata": {},
   "source": [
    "Laat zien wat er in set1 staat"
   ]
  },
  {
   "cell_type": "code",
   "execution_count": null,
   "metadata": {},
   "outputs": [],
   "source": [
    "print(set1)"
   ]
  },
  {
   "cell_type": "markdown",
   "metadata": {},
   "source": [
    "Voeg het getal 1972 toe aan set1"
   ]
  },
  {
   "cell_type": "code",
   "execution_count": null,
   "metadata": {},
   "outputs": [],
   "source": [
    "set1.add(1972)"
   ]
  },
  {
   "cell_type": "markdown",
   "metadata": {},
   "source": [
    "Verwijder het laagste element uit set2."
   ]
  },
  {
   "cell_type": "code",
   "execution_count": null,
   "metadata": {},
   "outputs": [],
   "source": [
    "set2.remove(min(set2))"
   ]
  },
  {
   "cell_type": "markdown",
   "metadata": {},
   "source": [
    "Hoe groot is de intersectie van de twee set?"
   ]
  },
  {
   "cell_type": "code",
   "execution_count": null,
   "metadata": {},
   "outputs": [],
   "source": [
    "len(set1.intersection(set2))"
   ]
  },
  {
   "cell_type": "markdown",
   "metadata": {},
   "source": [
    "Hoe groot is de union van de twee sets?"
   ]
  },
  {
   "cell_type": "code",
   "execution_count": null,
   "metadata": {},
   "outputs": [],
   "source": [
    "len(set1.union(set2))"
   ]
  },
  {
   "cell_type": "markdown",
   "metadata": {},
   "source": [
    "Vind de set van waarde uit set1 die niet in set2 zitten en print de omvang van deze set"
   ]
  },
  {
   "cell_type": "code",
   "execution_count": null,
   "metadata": {},
   "outputs": [],
   "source": [
    "len(set1.difference(set2))"
   ]
  },
  {
   "cell_type": "markdown",
   "metadata": {},
   "source": [
    "### Extra opdrachten"
   ]
  },
  {
   "cell_type": "markdown",
   "metadata": {},
   "source": [
    "#### Opdracht 8: Extra oefeningen met lists\n",
    "Werken met lijst slicing: Gebruik de lijst van jaren uit Opdracht 2. Selecteer de eerste 3 jaren (2015, 2016 en 2017)."
   ]
  },
  {
   "cell_type": "code",
   "execution_count": null,
   "metadata": {},
   "outputs": [],
   "source": [
    "eerste_jaren = jaren[:3]\n",
    "print(eerste_jaren)"
   ]
  },
  {
   "cell_type": "markdown",
   "metadata": {},
   "source": [
    "Gebruik de lijst van salarissen (max_sal) uit Opdracht 1.  Bereken het gemiddelde max salaris \n",
    "\n",
    "Tip: gebruik sum() en len()"
   ]
  },
  {
   "cell_type": "code",
   "execution_count": null,
   "metadata": {},
   "outputs": [],
   "source": [
    "sum(max_sal) / len(max_sal)"
   ]
  },
  {
   "cell_type": "markdown",
   "metadata": {},
   "source": [
    "#### Opdracht 9:  Werken met booleans\n",
    "Controleer of een bepaald salaris hoger is dan €110.000\n",
    "1. Maak een variabele aan met een zelfgekozen salaris\n",
    "2. Controleer of het salaris hoger is dan €110.000"
   ]
  },
  {
   "cell_type": "code",
   "execution_count": null,
   "metadata": {},
   "outputs": [],
   "source": [
    "# 1\n",
    "salaris = 105000\n",
    "\n",
    "# 2\n",
    "salaris > 110000"
   ]
  },
  {
   "cell_type": "markdown",
   "metadata": {},
   "source": [
    "#### Opdracht 10: Werken met nested dictionaries\n",
    "Maak een dictionary die per jaren 2022 en 2023 een salaris en een parttimegraad bevat. Je bent vrij om de waarden van de gegevens te kiezen. Gebruik een nested dictionary."
   ]
  },
  {
   "cell_type": "code",
   "execution_count": null,
   "metadata": {},
   "outputs": [],
   "source": [
    "gegevens = {\n",
    "    2022: {\"Salaris\": 25123, \"Parttimegraad\": 0.6},\n",
    "    2023: {\"Salaris\": 65282, \"Parttimegraad\": 0.7},\n",
    "}"
   ]
  },
  {
   "cell_type": "code",
   "execution_count": null,
   "metadata": {},
   "outputs": [],
   "source": []
  }
 ],
 "metadata": {
  "kernelspec": {
   "display_name": "AZL-python-training",
   "language": "python",
   "name": "python3"
  },
  "language_info": {
   "codemirror_mode": {
    "name": "ipython",
    "version": 3
   },
   "file_extension": ".py",
   "mimetype": "text/x-python",
   "name": "python",
   "nbconvert_exporter": "python",
   "pygments_lexer": "ipython3",
   "version": "3.13.2"
  }
 },
 "nbformat": 4,
 "nbformat_minor": 4
}
